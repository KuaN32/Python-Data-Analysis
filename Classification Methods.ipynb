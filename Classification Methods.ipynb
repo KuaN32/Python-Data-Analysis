{
 "cells": [
  {
   "cell_type": "code",
   "execution_count": 25,
   "metadata": {},
   "outputs": [],
   "source": [
    "from sklearn import tree, neighbors,neural_network\n",
    "from sklearn import linear_model,discriminant_analysis\n",
    "import numpy as np\n",
    "import scipy as sp"
   ]
  },
  {
   "cell_type": "code",
   "execution_count": 58,
   "metadata": {},
   "outputs": [
    {
     "name": "stdout",
     "output_type": "stream",
     "text": [
      "[1, 1, 2, 2, 1, 1, 2, 2, 2, 1, 1]\n"
     ]
    }
   ],
   "source": [
    "# [height, weight, shoe_size]\n",
    "X = [[181, 80, 44], [177, 70, 43], [160, 60, 38], [154, 54, 37], [166, 65, 40],\n",
    "     [190, 90, 47], [175, 64, 39],\n",
    "     [177, 70, 40], [159, 55, 37], [171, 75, 42], [181, 85, 43]]\n",
    "#list of labels associated with the lists shown in X\n",
    "Y = ['male', 'male', 'female', 'female', 'male', 'male', 'female', 'female',\n",
    "     'female', 'male', 'male']\n",
    "conversion = {'male': 1, 'female': 2}\n",
    "#Using map function and dictionary.get on the Y list to get Y as ints, for Discrimant Analysis\n",
    "Y_int = list(map(conversion.get,Y))\n",
    "#Test data\n",
    "X_test = [[190,70,43],[149,55,39]]\n",
    "print(Y_int)"
   ]
  },
  {
   "cell_type": "code",
   "execution_count": 4,
   "metadata": {},
   "outputs": [],
   "source": [
    "clf = tree.DecisionTreeClassifier();"
   ]
  },
  {
   "cell_type": "code",
   "execution_count": 60,
   "metadata": {},
   "outputs": [],
   "source": [
    "clf = clf.fit(X,Y)"
   ]
  },
  {
   "cell_type": "code",
   "execution_count": 40,
   "metadata": {},
   "outputs": [],
   "source": [
    "prediction = clf.predict(X_test)"
   ]
  },
  {
   "cell_type": "code",
   "execution_count": 41,
   "metadata": {},
   "outputs": [
    {
     "name": "stdout",
     "output_type": "stream",
     "text": [
      "['male' 'female']\n"
     ]
    }
   ],
   "source": [
    "print(prediction)"
   ]
  },
  {
   "cell_type": "code",
   "execution_count": 42,
   "metadata": {},
   "outputs": [],
   "source": [
    "#K-Nearest Neighbors Classifier\n",
    "knn = neighbors.KNeighborsClassifier();\n",
    "#Defaults to 5 neighbors\n",
    "knn2 = neighbors.KNeighborsClassifier(n_neighbors = 8)\n",
    "#Try using a differnent number of neighbors"
   ]
  },
  {
   "cell_type": "code",
   "execution_count": 43,
   "metadata": {},
   "outputs": [
    {
     "name": "stdout",
     "output_type": "stream",
     "text": [
      "['male' 'female']\n"
     ]
    }
   ],
   "source": [
    "knn = knn.fit(X,Y)\n",
    "prediction2 = knn.predict(X_test)\n",
    "print(prediction2)"
   ]
  },
  {
   "cell_type": "code",
   "execution_count": 44,
   "metadata": {},
   "outputs": [
    {
     "name": "stdout",
     "output_type": "stream",
     "text": [
      "['male' 'female']\n"
     ]
    }
   ],
   "source": [
    "knn2 = knn2.fit(X,Y)\n",
    "prediction3 = knn2.predict(X_test)\n",
    "print(prediction3)"
   ]
  },
  {
   "cell_type": "code",
   "execution_count": 45,
   "metadata": {},
   "outputs": [],
   "source": [
    "#Neural Network Classifier\n",
    "nnetwork = neural_network.MLPClassifier()\n",
    "nnetwork = nnetwork.fit(X,Y)"
   ]
  },
  {
   "cell_type": "code",
   "execution_count": 46,
   "metadata": {},
   "outputs": [
    {
     "name": "stdout",
     "output_type": "stream",
     "text": [
      "['male' 'male']\n"
     ]
    }
   ],
   "source": [
    "prediction4 = nnetwork.predict(X_test)\n",
    "print (prediction4)"
   ]
  },
  {
   "cell_type": "code",
   "execution_count": 47,
   "metadata": {},
   "outputs": [],
   "source": [
    "#Linear Ridge Classifier\n",
    "lr = linear_model.RidgeClassifier()\n",
    "lr = lr.fit(X,Y)"
   ]
  },
  {
   "cell_type": "code",
   "execution_count": 48,
   "metadata": {},
   "outputs": [
    {
     "name": "stdout",
     "output_type": "stream",
     "text": [
      "['female' 'male']\n"
     ]
    }
   ],
   "source": [
    "prediction5 = lr.predict(X_test)\n",
    "print(prediction5)"
   ]
  },
  {
   "cell_type": "code",
   "execution_count": 63,
   "metadata": {},
   "outputs": [],
   "source": [
    "#Quadratic and Linear Discriminant Analysis\n",
    "qda = discriminant_analysis.QuadraticDiscriminantAnalysis()\n",
    "qda = qda.fit(X,Y)\n",
    "lda = discriminant_analysis.LinearDiscriminantAnalysis()\n",
    "lda = lda.fit(X,Y)"
   ]
  },
  {
   "cell_type": "code",
   "execution_count": 64,
   "metadata": {},
   "outputs": [
    {
     "name": "stdout",
     "output_type": "stream",
     "text": [
      "['male' 'male']\n",
      "['female' 'male']\n"
     ]
    }
   ],
   "source": [
    "prediction6 = qda.predict(X_test)\n",
    "prediction7 = lda.predict(X_test)\n",
    "print(prediction6)\n",
    "print(prediction7)"
   ]
  },
  {
   "cell_type": "code",
   "execution_count": null,
   "metadata": {},
   "outputs": [],
   "source": [
    "#Different types of classifiers can cause different results in for the same test data"
   ]
  }
 ],
 "metadata": {
  "kernelspec": {
   "display_name": "Python 3",
   "language": "python",
   "name": "python3"
  },
  "language_info": {
   "codemirror_mode": {
    "name": "ipython",
    "version": 3
   },
   "file_extension": ".py",
   "mimetype": "text/x-python",
   "name": "python",
   "nbconvert_exporter": "python",
   "pygments_lexer": "ipython3",
   "version": "3.7.0"
  }
 },
 "nbformat": 4,
 "nbformat_minor": 2
}
